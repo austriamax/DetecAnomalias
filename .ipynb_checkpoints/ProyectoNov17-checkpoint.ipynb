{
 "cells": [
  {
   "cell_type": "markdown",
   "metadata": {
    "id": "9SO8cNz111SV"
   },
   "source": [
    "# **Detección de anomalías**\n",
    "\n",
    "#### Versión 3\n",
    "\n",
    "**Librerias**"
   ]
  },
  {
   "cell_type": "code",
   "execution_count": 1,
   "metadata": {
    "id": "IH9DjRNq1w24"
   },
   "outputs": [
    {
     "ename": "ModuleNotFoundError",
     "evalue": "No module named 'rpy2'",
     "output_type": "error",
     "traceback": [
      "\u001b[0;31m---------------------------------------------------------------------------\u001b[0m",
      "\u001b[0;31mModuleNotFoundError\u001b[0m                       Traceback (most recent call last)",
      "\u001b[0;32m/tmp/ipykernel_8486/2383943619.py\u001b[0m in \u001b[0;36m<module>\u001b[0;34m\u001b[0m\n\u001b[1;32m      9\u001b[0m \u001b[0;34m\u001b[0m\u001b[0m\n\u001b[1;32m     10\u001b[0m \u001b[0;31m# Import rpy2 for dataframe conversion\u001b[0m\u001b[0;34m\u001b[0m\u001b[0;34m\u001b[0m\u001b[0;34m\u001b[0m\u001b[0m\n\u001b[0;32m---> 11\u001b[0;31m \u001b[0;32mimport\u001b[0m \u001b[0mrpy2\u001b[0m\u001b[0;34m.\u001b[0m\u001b[0mrobjects\u001b[0m \u001b[0;32mas\u001b[0m \u001b[0mro\u001b[0m\u001b[0;34m\u001b[0m\u001b[0;34m\u001b[0m\u001b[0m\n\u001b[0m\u001b[1;32m     12\u001b[0m \u001b[0;32mfrom\u001b[0m \u001b[0mrpy2\u001b[0m\u001b[0;34m.\u001b[0m\u001b[0mrobjects\u001b[0m\u001b[0;34m.\u001b[0m\u001b[0mpackages\u001b[0m \u001b[0;32mimport\u001b[0m \u001b[0mimportr\u001b[0m\u001b[0;34m\u001b[0m\u001b[0;34m\u001b[0m\u001b[0m\n\u001b[1;32m     13\u001b[0m \u001b[0;32mfrom\u001b[0m \u001b[0mrpy2\u001b[0m\u001b[0;34m.\u001b[0m\u001b[0mrobjects\u001b[0m \u001b[0;32mimport\u001b[0m \u001b[0mpandas2ri\u001b[0m\u001b[0;34m\u001b[0m\u001b[0;34m\u001b[0m\u001b[0m\n",
      "\u001b[0;31mModuleNotFoundError\u001b[0m: No module named 'rpy2'"
     ]
    }
   ],
   "source": [
    "import numpy as np\n",
    "import pandas as pd\n",
    "from matplotlib import pyplot as plt\n",
    "from statsmodels.graphics.tsaplots import plot_acf\n",
    "from statsmodels.graphics.tsaplots import plot_pacf\n",
    "from math import nan, isnan\n",
    "from sklearn.linear_model import LinearRegression\n",
    "from sklearn.preprocessing import PolynomialFeatures\n",
    "\n",
    "# Import rpy2 for dataframe conversion\n",
    "import rpy2.robjects as ro\n",
    "from rpy2.robjects.packages import importr\n",
    "from rpy2.robjects import pandas2ri\n",
    "from rpy2.robjects.conversion import localconverter\n",
    "from rpy2.robjects import globalenv"
   ]
  },
  {
   "cell_type": "markdown",
   "metadata": {
    "id": "MYVKWWDu2Y8p"
   },
   "source": [
    "**Cargando los datos**"
   ]
  },
  {
   "cell_type": "code",
   "execution_count": null,
   "metadata": {
    "id": "u8OlEJCC2cbz"
   },
   "outputs": [],
   "source": [
    "master_url_root = \"https://raw.githubusercontent.com/numenta/NAB/master/data/\"\n",
    "\n",
    "df_small_noise_url_suffix = \"artificialNoAnomaly/art_daily_small_noise.csv\"\n",
    "df_small_noise_url = master_url_root + df_small_noise_url_suffix\n",
    "df_small_noise = pd.read_csv(\n",
    "    df_small_noise_url, parse_dates=True, index_col=\"timestamp\"\n",
    ")\n",
    "\n",
    "df_daily_jumpsup_url_suffix = \"artificialWithAnomaly/art_daily_jumpsup.csv\"\n",
    "df_daily_jumpsup_url = master_url_root + df_daily_jumpsup_url_suffix\n",
    "df_daily_jumpsup = pd.read_csv(\n",
    "    df_daily_jumpsup_url, parse_dates=True, index_col=\"timestamp\"\n",
    ")"
   ]
  },
  {
   "cell_type": "markdown",
   "metadata": {
    "id": "IXUO-fZm2wjt"
   },
   "source": [
    "**Patron regular**"
   ]
  },
  {
   "cell_type": "code",
   "execution_count": null,
   "metadata": {
    "colab": {
     "base_uri": "https://localhost:8080/",
     "height": 321
    },
    "id": "oFO84GZR20kx",
    "outputId": "00a0b870-c5f8-4cd4-d457-77f37350e598"
   },
   "outputs": [],
   "source": [
    "fig, ax = plt.subplots()\n",
    "df_small_noise.plot(legend=False, ax=ax)\n",
    "plt.show()\n",
    "df_small_noise.size"
   ]
  },
  {
   "cell_type": "markdown",
   "metadata": {
    "id": "jV4fSBKU21z1"
   },
   "source": [
    "**Patron anormal**"
   ]
  },
  {
   "cell_type": "code",
   "execution_count": null,
   "metadata": {
    "colab": {
     "base_uri": "https://localhost:8080/",
     "height": 303
    },
    "id": "ZRm8DvCD25lf",
    "outputId": "ff379dcf-27bc-46dc-a77e-411059a144b6"
   },
   "outputs": [],
   "source": [
    "fig, ax = plt.subplots()\n",
    "df_daily_jumpsup.plot(legend=False, ax=ax)\n",
    "plt.show()"
   ]
  },
  {
   "cell_type": "markdown",
   "metadata": {
    "id": "CToVZAe4bqap"
   },
   "source": [
    "**Extrayendo una muestra de 2000 observaciones.**"
   ]
  },
  {
   "cell_type": "code",
   "execution_count": null,
   "metadata": {
    "colab": {
     "base_uri": "https://localhost:8080/"
    },
    "id": "nG8V1eTsbt4f",
    "outputId": "fe1f3782-69c5-4444-8203-79ec7449d1b3"
   },
   "outputs": [],
   "source": [
    "jump = df_daily_jumpsup.iloc[0:2500]\n",
    "jump.size"
   ]
  },
  {
   "cell_type": "code",
   "execution_count": null,
   "metadata": {
    "colab": {
     "base_uri": "https://localhost:8080/",
     "height": 303
    },
    "id": "wuS1K_J3bud_",
    "outputId": "1414fdec-0064-4cda-fe8b-1a0fa3545cd9"
   },
   "outputs": [],
   "source": [
    "fig, ax = plt.subplots()\n",
    "jump.plot(legend=False, ax=ax)\n",
    "plt.show()"
   ]
  },
  {
   "cell_type": "markdown",
   "metadata": {
    "id": "ALABe-fxb013"
   },
   "source": [
    "# **Análisis**\n",
    "#### Un estimador de la varianza.\n",
    "\n",
    "\n",
    "\n",
    "1.   Se construirá un estimador de la varianza a partir de una regresión polinomial local de grado $P$ en una vecindad de radio $R$.\n",
    "2.   El estimador de la varianza es la varianza estimada del polinomio.\n",
    "\n"
   ]
  },
  {
   "cell_type": "markdown",
   "metadata": {
    "id": "p50G08grxFtF"
   },
   "source": [
    "**Selección**"
   ]
  },
  {
   "cell_type": "code",
   "execution_count": null,
   "metadata": {
    "id": "l5Js9hpfdDOH"
   },
   "outputs": [],
   "source": [
    "ST = jump"
   ]
  },
  {
   "cell_type": "markdown",
   "metadata": {
    "id": "7Po1tSE_4B67"
   },
   "source": [
    "**Análizando al media y volatilidad de los datos**"
   ]
  },
  {
   "cell_type": "code",
   "execution_count": null,
   "metadata": {
    "id": "ZwEBv4BurJDc"
   },
   "outputs": [],
   "source": [
    "ST.to_csv(\"/content/datos.csv\")"
   ]
  },
  {
   "cell_type": "code",
   "execution_count": null,
   "metadata": {
    "colab": {
     "base_uri": "https://localhost:8080/",
     "height": 641
    },
    "id": "jz2IEdTFQ4sv",
    "outputId": "6730003f-d86a-48be-d909-9fdb382e12f9"
   },
   "outputs": [],
   "source": [
    "colnames=['timestamp','Y','media','radio','Y1','Y109','Y181','Y289'] \n",
    "datos = pd.read_csv('/content/datos2.csv',\n",
    "                    names=colnames,\n",
    "                    header=1,\n",
    "                    sep=';')\n",
    "datos"
   ]
  },
  {
   "cell_type": "markdown",
   "metadata": {
    "id": "kvHIGd2Aan5W"
   },
   "source": [
    "Quitando las filas con valores faltantes."
   ]
  },
  {
   "cell_type": "code",
   "execution_count": null,
   "metadata": {
    "colab": {
     "base_uri": "https://localhost:8080/",
     "height": 337
    },
    "id": "gX2z4nG3Zkhr",
    "outputId": "5603ab29-f361-47c3-a5ef-59ef2abe9071"
   },
   "outputs": [],
   "source": [
    "datos2 = datos.dropna()\n",
    "datos2.head()"
   ]
  },
  {
   "cell_type": "markdown",
   "metadata": {
    "id": "glWGjkYzaNdj"
   },
   "source": [
    "**Se hace una partición de 70% para entrenamiento y 30% para validación.**"
   ]
  },
  {
   "cell_type": "code",
   "execution_count": null,
   "metadata": {
    "id": "0DTpV9IjZyH_"
   },
   "outputs": [],
   "source": [
    "from sklearn.model_selection import train_test_split\n",
    "\n",
    "Xtrain, Xtest, Ytrain, Ytest = train_test_split(datos2[['Y1','Y109','Y181','Y289']],\n",
    "                                                datos2[['media','radio']],\n",
    "                                                test_size = 0.30,\n",
    "                                                random_state = 0)"
   ]
  },
  {
   "cell_type": "code",
   "execution_count": null,
   "metadata": {
    "colab": {
     "base_uri": "https://localhost:8080/",
     "height": 206
    },
    "id": "3QTwfuPmbSVE",
    "outputId": "dc0ffa3f-bf13-49c2-f510-7d43e24e9730"
   },
   "outputs": [],
   "source": [
    "Xtrain.head()"
   ]
  },
  {
   "cell_type": "code",
   "execution_count": null,
   "metadata": {
    "colab": {
     "base_uri": "https://localhost:8080/",
     "height": 206
    },
    "id": "M_Kat66obcI3",
    "outputId": "2894710e-e61a-44b8-e482-043ab5eb5ad0"
   },
   "outputs": [],
   "source": [
    "Ytrain.head()"
   ]
  },
  {
   "cell_type": "markdown",
   "metadata": {
    "id": "HG1uaKwwaxlp"
   },
   "source": [
    "**Especificación del modelo**"
   ]
  },
  {
   "cell_type": "code",
   "execution_count": null,
   "metadata": {
    "id": "cwh-YhwXaxvl"
   },
   "outputs": [],
   "source": [
    "import tensorflow as tf"
   ]
  },
  {
   "cell_type": "code",
   "execution_count": null,
   "metadata": {
    "id": "QR2TLOLnbEbh"
   },
   "outputs": [],
   "source": [
    "entrada =  tf.keras.layers.Dense(units = 4, activation = \"relu\", input_shape = [4])\n",
    "oculta1 = tf.keras.layers.Dense(units = 5, activation = \"relu\")\n",
    "oculta2 = tf.keras.layers.Dense(units = 3, activation = \"relu\")\n",
    "salida = tf.keras.layers.Dense(units = 2, activation = \"relu\")\n",
    "modelo = tf.keras.Sequential([entrada, oculta1, oculta2, salida])"
   ]
  },
  {
   "cell_type": "code",
   "execution_count": null,
   "metadata": {
    "id": "5Nzkj9KAb-X3"
   },
   "outputs": [],
   "source": [
    "modelo.compile(\n",
    "    optimizer = tf.keras.optimizers.Adam(0.1),\n",
    "    loss = 'mean_squared_error'\n",
    ")"
   ]
  },
  {
   "cell_type": "markdown",
   "metadata": {
    "id": "iYvdhWdtccA5"
   },
   "source": [
    "**Entrenamiento**"
   ]
  },
  {
   "cell_type": "code",
   "execution_count": null,
   "metadata": {
    "colab": {
     "base_uri": "https://localhost:8080/"
    },
    "id": "CIlQCoXYdCGy",
    "outputId": "30d511fb-f1a3-4ef8-f2b6-735089ef427a"
   },
   "outputs": [],
   "source": [
    "type(Xtrain)"
   ]
  },
  {
   "cell_type": "code",
   "execution_count": null,
   "metadata": {
    "colab": {
     "base_uri": "https://localhost:8080/"
    },
    "id": "oT9cqSJgdbNQ",
    "outputId": "237bf934-47dd-4a14-b76f-560d7987b7b6"
   },
   "outputs": [],
   "source": [
    "type(Xtrain.values)"
   ]
  },
  {
   "cell_type": "code",
   "execution_count": null,
   "metadata": {
    "colab": {
     "base_uri": "https://localhost:8080/"
    },
    "id": "JuBWTcU_dGXq",
    "outputId": "efd66398-953c-4c93-ff42-8faa748b1e55"
   },
   "outputs": [],
   "source": [
    "Xtrain.shape"
   ]
  },
  {
   "cell_type": "code",
   "execution_count": null,
   "metadata": {
    "colab": {
     "base_uri": "https://localhost:8080/"
    },
    "id": "3Bmd75U_eAF9",
    "outputId": "edbbd1fa-7059-4cf3-c651-c9e17e5053b7"
   },
   "outputs": [],
   "source": [
    "Xtrain.dtypes"
   ]
  },
  {
   "cell_type": "code",
   "execution_count": null,
   "metadata": {
    "colab": {
     "base_uri": "https://localhost:8080/",
     "height": 294
    },
    "id": "qpYguW4aeLRZ",
    "outputId": "f6cbdce4-7f92-468c-8fce-88511af0f8cd"
   },
   "outputs": [],
   "source": [
    "Xtrain.to_numeric()"
   ]
  },
  {
   "cell_type": "code",
   "execution_count": null,
   "metadata": {
    "colab": {
     "base_uri": "https://localhost:8080/",
     "height": 1000
    },
    "id": "VuNWnt_RccKM",
    "outputId": "109c05b6-830a-4732-9ebc-98c7e9773d10"
   },
   "outputs": [],
   "source": [
    "historial = modelo.fit(Xtrain.values, Ytrain.values, epochs = 1000, verbose = False)"
   ]
  }
 ],
 "metadata": {
  "colab": {
   "provenance": []
  },
  "kernelspec": {
   "display_name": "Python 3 (ipykernel)",
   "language": "python",
   "name": "python3"
  },
  "language_info": {
   "codemirror_mode": {
    "name": "ipython",
    "version": 3
   },
   "file_extension": ".py",
   "mimetype": "text/x-python",
   "name": "python",
   "nbconvert_exporter": "python",
   "pygments_lexer": "ipython3",
   "version": "3.7.11"
  }
 },
 "nbformat": 4,
 "nbformat_minor": 1
}
